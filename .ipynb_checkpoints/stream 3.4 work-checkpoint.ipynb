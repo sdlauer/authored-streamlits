{
 "cells": [
  {
   "cell_type": "code",
   "execution_count": 2,
   "id": "aa27b423",
   "metadata": {},
   "outputs": [],
   "source": [
    "import pandas as pd\n",
    "import seaborn as sns\n",
    "import numpy as np\n",
    "import matplotlib.pyplot as plt\n",
    "from statsmodels.stats.proportion import proportions_ztest"
   ]
  },
  {
   "cell_type": "code",
   "execution_count": 76,
   "id": "cd4a3adb",
   "metadata": {},
   "outputs": [
    {
     "data": {
      "text/plain": [
       "336776"
      ]
     },
     "execution_count": 76,
     "metadata": {},
     "output_type": "execute_result"
    }
   ],
   "source": [
    "flights = pd.read_csv('flightsProp.csv').dropna()\n",
    "flights\n",
    "len(flights)"
   ]
  },
  {
   "cell_type": "code",
   "execution_count": 15,
   "id": "24ac9453",
   "metadata": {},
   "outputs": [
    {
     "ename": "AttributeError",
     "evalue": "module 'pandas' has no attribute 'data'",
     "output_type": "error",
     "traceback": [
      "\u001b[0;31m---------------------------------------------------------------------------\u001b[0m",
      "\u001b[0;31mAttributeError\u001b[0m                            Traceback (most recent call last)",
      "\u001b[0;32m/var/folders/xs/hsrjqt656t3g9rc2h3mzvfhr0000gp/T/ipykernel_98572/450990533.py\u001b[0m in \u001b[0;36m<module>\u001b[0;34m\u001b[0m\n\u001b[1;32m      1\u001b[0m \u001b[0msummary\u001b[0m \u001b[0;34m=\u001b[0m \u001b[0mflights\u001b[0m\u001b[0;34m[\u001b[0m\u001b[0;34m'delay'\u001b[0m\u001b[0;34m]\u001b[0m\u001b[0;34m.\u001b[0m\u001b[0mvalue_counts\u001b[0m\u001b[0;34m(\u001b[0m\u001b[0;34m)\u001b[0m\u001b[0;34m\u001b[0m\u001b[0;34m\u001b[0m\u001b[0m\n\u001b[0;32m----> 2\u001b[0;31m \u001b[0mreturnsum\u001b[0m\u001b[0;34m=\u001b[0m\u001b[0mpd\u001b[0m\u001b[0;34m.\u001b[0m\u001b[0mdata\u001b[0m\u001b[0;34m.\u001b[0m\u001b[0mframe\u001b[0m\u001b[0;34m(\u001b[0m\u001b[0msummary\u001b[0m\u001b[0;34m)\u001b[0m\u001b[0;34m\u001b[0m\u001b[0;34m\u001b[0m\u001b[0m\n\u001b[0m\u001b[1;32m      3\u001b[0m \u001b[0mreturnsum\u001b[0m\u001b[0;34m\u001b[0m\u001b[0;34m\u001b[0m\u001b[0m\n",
      "\u001b[0;32m~/opt/anaconda3/lib/python3.9/site-packages/pandas/__init__.py\u001b[0m in \u001b[0;36m__getattr__\u001b[0;34m(name)\u001b[0m\n\u001b[1;32m    242\u001b[0m         \u001b[0;32mreturn\u001b[0m \u001b[0m_SparseArray\u001b[0m\u001b[0;34m\u001b[0m\u001b[0;34m\u001b[0m\u001b[0m\n\u001b[1;32m    243\u001b[0m \u001b[0;34m\u001b[0m\u001b[0m\n\u001b[0;32m--> 244\u001b[0;31m     \u001b[0;32mraise\u001b[0m \u001b[0mAttributeError\u001b[0m\u001b[0;34m(\u001b[0m\u001b[0;34mf\"module 'pandas' has no attribute '{name}'\"\u001b[0m\u001b[0;34m)\u001b[0m\u001b[0;34m\u001b[0m\u001b[0;34m\u001b[0m\u001b[0m\n\u001b[0m\u001b[1;32m    245\u001b[0m \u001b[0;34m\u001b[0m\u001b[0m\n\u001b[1;32m    246\u001b[0m \u001b[0;34m\u001b[0m\u001b[0m\n",
      "\u001b[0;31mAttributeError\u001b[0m: module 'pandas' has no attribute 'data'"
     ]
    }
   ],
   "source": [
    "summary = flights['delay'].value_counts()\n",
    "returnsum=pd.data.frame(summary)\n",
    "returnsum"
   ]
  },
  {
   "cell_type": "code",
   "execution_count": 77,
   "id": "620907a2",
   "metadata": {},
   "outputs": [
    {
     "data": {
      "text/plain": [
       "120835"
      ]
     },
     "execution_count": 77,
     "metadata": {},
     "output_type": "execute_result"
    }
   ],
   "source": [
    "EWR = flights[flights['origin']=='EWR']\n",
    "JFK = flights[flights['origin']=='JFK']\n",
    "LGA = flights[flights['origin']=='LGA']\n",
    "len(EWR)\n",
    "#336776"
   ]
  },
  {
   "cell_type": "code",
   "execution_count": 70,
   "id": "f334d936",
   "metadata": {},
   "outputs": [
    {
     "name": "stdout",
     "output_type": "stream",
     "text": [
      "1    61535\n",
      "0    59300\n",
      "Name: delay, dtype: int64\n",
      "0    61146\n",
      "1    50133\n",
      "Name: delay, dtype: int64\n"
     ]
    },
    {
     "data": {
      "text/plain": [
       "120835"
      ]
     },
     "execution_count": 70,
     "metadata": {},
     "output_type": "execute_result"
    }
   ],
   "source": [
    "summary1 = EWR['delay'].value_counts()\n",
    "print(summary1)\n",
    "\n",
    "summary2 = JFK['delay'].value_counts()\n",
    "print(summary2)\n",
    "\n",
    "summary12 = pd.DataFrame(data={'origin': ['EWR', 'JFK'], 'No Delay': [summary1[0], summary2[0]], \n",
    "                               'Delay': [summary1[1], summary2[1]]})\n",
    "summary12\n",
    "61535+59300"
   ]
  },
  {
   "cell_type": "code",
   "execution_count": 26,
   "id": "92cd7d99",
   "metadata": {},
   "outputs": [
    {
     "data": {
      "text/plain": [
       "61535"
      ]
     },
     "execution_count": 26,
     "metadata": {},
     "output_type": "execute_result"
    }
   ],
   "source": [
    "summary1[1]"
   ]
  },
  {
   "cell_type": "code",
   "execution_count": 66,
   "id": "04928f4e",
   "metadata": {},
   "outputs": [
    {
     "data": {
      "text/html": [
       "<div>\n",
       "<style scoped>\n",
       "    .dataframe tbody tr th:only-of-type {\n",
       "        vertical-align: middle;\n",
       "    }\n",
       "\n",
       "    .dataframe tbody tr th {\n",
       "        vertical-align: top;\n",
       "    }\n",
       "\n",
       "    .dataframe thead th {\n",
       "        text-align: right;\n",
       "    }\n",
       "</style>\n",
       "<table border=\"1\" class=\"dataframe\">\n",
       "  <thead>\n",
       "    <tr style=\"text-align: right;\">\n",
       "      <th></th>\n",
       "      <th>Origin</th>\n",
       "      <th>Delay</th>\n",
       "      <th>No delay</th>\n",
       "      <th>Total</th>\n",
       "    </tr>\n",
       "  </thead>\n",
       "  <tbody>\n",
       "    <tr>\n",
       "      <th>0</th>\n",
       "      <td>All</td>\n",
       "      <td>33170</td>\n",
       "      <td>39564</td>\n",
       "      <td>72734</td>\n",
       "    </tr>\n",
       "    <tr>\n",
       "      <th>1</th>\n",
       "      <td>JFK</td>\n",
       "      <td>8456</td>\n",
       "      <td>10756</td>\n",
       "      <td>19212</td>\n",
       "    </tr>\n",
       "    <tr>\n",
       "      <th>2</th>\n",
       "      <td>LGA</td>\n",
       "      <td>9793</td>\n",
       "      <td>15385</td>\n",
       "      <td>25178</td>\n",
       "    </tr>\n",
       "    <tr>\n",
       "      <th>3</th>\n",
       "      <td>EWR</td>\n",
       "      <td>59300</td>\n",
       "      <td>61535</td>\n",
       "      <td>28344</td>\n",
       "    </tr>\n",
       "  </tbody>\n",
       "</table>\n",
       "</div>"
      ],
      "text/plain": [
       "  Origin  Delay  No delay  Total\n",
       "0    All  33170     39564  72734\n",
       "1    JFK   8456     10756  19212\n",
       "2    LGA   9793     15385  25178\n",
       "3    EWR  59300     61535  28344"
      ]
     },
     "execution_count": 66,
     "metadata": {},
     "output_type": "execute_result"
    }
   ],
   "source": [
    "flighttab = pd.DataFrame( data = [['All', 33170, 39564, 72734], \n",
    "    ['JFK', 8456, 10756, 19212], \n",
    "    ['LGA', 9793, 15385, 25178], \n",
    "    ['EWR', 59300, 61535, 28344]],\n",
    "    columns = ['Origin', 'Delay', 'No delay', 'Total'],\n",
    "    index=None)\n",
    "flighttab"
   ]
  },
  {
   "cell_type": "code",
   "execution_count": 69,
   "id": "e870fa14",
   "metadata": {},
   "outputs": [
    {
     "name": "stdout",
     "output_type": "stream",
     "text": [
      "67465\n"
     ]
    },
    {
     "data": {
      "text/html": [
       "<div>\n",
       "<style scoped>\n",
       "    .dataframe tbody tr th:only-of-type {\n",
       "        vertical-align: middle;\n",
       "    }\n",
       "\n",
       "    .dataframe tbody tr th {\n",
       "        vertical-align: top;\n",
       "    }\n",
       "\n",
       "    .dataframe thead th {\n",
       "        text-align: right;\n",
       "    }\n",
       "</style>\n",
       "<table border=\"1\" class=\"dataframe\">\n",
       "  <thead>\n",
       "    <tr style=\"text-align: right;\">\n",
       "      <th></th>\n",
       "      <th>Origin</th>\n",
       "      <th>Delay</th>\n",
       "      <th>No delay</th>\n",
       "      <th>Total</th>\n",
       "    </tr>\n",
       "  </thead>\n",
       "  <tbody>\n",
       "    <tr>\n",
       "      <th>0</th>\n",
       "      <td>All</td>\n",
       "      <td>33170</td>\n",
       "      <td>39564</td>\n",
       "      <td>72734</td>\n",
       "    </tr>\n",
       "  </tbody>\n",
       "</table>\n",
       "</div>"
      ],
      "text/plain": [
       "  Origin  Delay  No delay  Total\n",
       "0    All  33170     39564  72734"
      ]
     },
     "execution_count": 69,
     "metadata": {},
     "output_type": "execute_result"
    }
   ],
   "source": [
    "print(5930+61535)\n",
    "flighttab[flighttab['Origin']=='All']"
   ]
  },
  {
   "cell_type": "code",
   "execution_count": 65,
   "id": "26dfb4bf",
   "metadata": {},
   "outputs": [
    {
     "name": "stdout",
     "output_type": "stream",
     "text": [
      "ERW\n"
     ]
    },
    {
     "name": "stderr",
     "output_type": "stream",
     "text": [
      "/var/folders/xs/hsrjqt656t3g9rc2h3mzvfhr0000gp/T/ipykernel_98572/1671751551.py:7: UserWarning: Matplotlib is currently using module://matplotlib_inline.backend_inline, which is a non-GUI backend, so cannot show the figure.\n",
      "  fig.show()\n"
     ]
    },
    {
     "data": {
      "image/png": "[encoded data removed]",
      "text/plain": [
       "<Figure size 432x288 with 2 Axes>"
      ]
     },
     "metadata": {
      "needs_background": "light"
     },
     "output_type": "display_data"
    }
   ],
   "source": [
    "group1='ERW'\n",
    "print(group1)\n",
    "fig, (ax1, ax2) = plt.subplots(nrows=1, ncols=2)\n",
    "ax1.bar(x=['Delay', 'No delay'], height=[flighttab.loc[flighttab['Origin'] == 'All', 'Delay'].values[0], flighttab.loc[flighttab['Origin'] == 'All', 'No delay'].values[0]])\n",
    "ax1.title.set_text('Flights from %s' %group1)\n",
    "ax2.axis('off')\n",
    "fig.show()\n",
    "\n",
    "#ax[x,y].set_visible(False)\n",
    "\n",
    "#flighttab[flighttab['Origin']=='All'][['Delay', 'No delay']]\n",
    "\n",
    "#plt.bar(x=['No delay', 'Delay'], height=all_counts)\n",
    "#plt.title('All New York City flights', fontsize=16)\n",
    "#plt.xlabel('Flight status', fontsize=14)\n",
    "#plt.ylabel('Count', fontsize=14)"
   ]
  },
  {
   "cell_type": "code",
   "execution_count": 45,
   "id": "ef3149f7",
   "metadata": {},
   "outputs": [
    {
     "data": {
      "text/plain": [
       "33170"
      ]
     },
     "execution_count": 45,
     "metadata": {},
     "output_type": "execute_result"
    }
   ],
   "source": [
    "flighttab.loc[flighttab['Origin'] == 'All', 'Delay'].values[0]"
   ]
  },
  {
   "cell_type": "code",
   "execution_count": 68,
   "id": "51458dcc",
   "metadata": {},
   "outputs": [
    {
     "data": {
      "text/plain": [
       "1.2909270954000225"
      ]
     },
     "execution_count": 68,
     "metadata": {},
     "output_type": "execute_result"
    }
   ],
   "source": [
    "group1='LGA'\n",
    "group2='EWR'\n",
    "sample_prop = (flighttab.loc[flighttab['Origin'] == group1, 'Delay'].values[0] +\n",
    "            flighttab.loc[flighttab['Origin'] == group2, 'Delay'].values[0])/(\n",
    "            flighttab.loc[flighttab['Origin'] == group1, 'Total'].values[0] + \n",
    "            flighttab.loc[flighttab['Origin'] == group2, 'Total'].values[0])\n",
    "sample_prop\n"
   ]
  },
  {
   "cell_type": "code",
   "execution_count": null,
   "id": "f6c1b2aa",
   "metadata": {},
   "outputs": [],
   "source": [
    "(9793+59300)/(25178)"
   ]
  }
 ],
 "metadata": {
  "kernelspec": {
   "display_name": "Python 3 (ipykernel)",
   "language": "python",
   "name": "python3"
  },
  "language_info": {
   "codemirror_mode": {
    "name": "ipython",
    "version": 3
   },
   "file_extension": ".py",
   "mimetype": "text/x-python",
   "name": "python",
   "nbconvert_exporter": "python",
   "pygments_lexer": "ipython3",
   "version": "3.9.7"
  }
 },
 "nbformat": 4,
 "nbformat_minor": 5
}
